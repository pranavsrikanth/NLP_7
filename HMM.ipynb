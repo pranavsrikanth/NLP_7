{
  "cells": [
    {
      "cell_type": "code",
      "execution_count": 3,
      "metadata": {},
      "outputs": [],
      "source": [
        "import torch\n",
        "torch.set_default_device('mps:0')"
      ]
    },
    {
      "cell_type": "code",
      "execution_count": 4,
      "metadata": {
        "id": "aZbW6Pj0og7K"
      },
      "outputs": [],
      "source": [
        "import torch\n",
        "import numpy as np\n",
        "\n",
        "class HMM(torch.nn.Module):\n",
        "  \"\"\"\n",
        "  Hidden Markov Model with discrete observations.\n",
        "  \"\"\"\n",
        "  def __init__(self, M, N):\n",
        "    super(HMM, self).__init__()\n",
        "    self.M = M # number of possible observations\n",
        "    self.N = N # number of states\n",
        "\n",
        "    # A\n",
        "    self.transition_model = TransitionModel(self.N)\n",
        "\n",
        "    # b(x_t)\n",
        "    self.emission_model = EmissionModel(self.N,self.M)\n",
        "\n",
        "    # pi\n",
        "    self.unnormalized_state_priors = torch.nn.Parameter(torch.randn(self.N))\n",
        "\n",
        "    # use the GPU\n",
        "    self.is_cuda = torch.cuda.is_available()\n",
        "    if self.is_cuda: self.cuda()\n",
        "\n",
        "class TransitionModel(torch.nn.Module):\n",
        "  def __init__(self, N):\n",
        "    super(TransitionModel, self).__init__()\n",
        "    self.N = N\n",
        "    self.unnormalized_transition_matrix = torch.nn.Parameter(torch.randn(N,N))\n",
        "\n",
        "class EmissionModel(torch.nn.Module):\n",
        "  def __init__(self, N, M):\n",
        "    super(EmissionModel, self).__init__()\n",
        "    self.N = N\n",
        "    self.M = M\n",
        "    self.unnormalized_emission_matrix = torch.nn.Parameter(torch.randn(N,M))"
      ]
    },
    {
      "cell_type": "code",
      "execution_count": 5,
      "metadata": {
        "id": "BpgkwNyVwmyM"
      },
      "outputs": [],
      "source": [
        "def sample(self, T=10):\n",
        "  state_priors = torch.nn.functional.softmax(self.unnormalized_state_priors, dim=0)\n",
        "  transition_matrix = torch.nn.functional.softmax(self.transition_model.unnormalized_transition_matrix, dim=0)\n",
        "  emission_matrix = torch.nn.functional.softmax(self.emission_model.unnormalized_emission_matrix, dim=1)\n",
        "\n",
        "  # sample initial state\n",
        "  z_t = torch.distributions.categorical.Categorical(state_priors).sample().item()\n",
        "  z = []; x = []\n",
        "  z.append(z_t)\n",
        "  for t in range(0,T):\n",
        "    # sample emission\n",
        "    x_t = torch.distributions.categorical.Categorical(emission_matrix[z_t]).sample().item()\n",
        "    x.append(x_t)\n",
        "\n",
        "    # sample transition\n",
        "    z_t = torch.distributions.categorical.Categorical(transition_matrix[:,z_t]).sample().item()\n",
        "    if t < T-1: z.append(z_t)\n",
        "\n",
        "  return x, z\n",
        "\n",
        "# Add the sampling method to our HMM class\n",
        "HMM.sample = sample"
      ]
    },
    {
      "cell_type": "code",
      "execution_count": 6,
      "metadata": {
        "colab": {
          "base_uri": "https://localhost:8080/"
        },
        "id": "eyR7yv_3sBG3",
        "outputId": "123309a6-ad66-4c6d-977a-60e3af957246"
      },
      "outputs": [
        {
          "name": "stdout",
          "output_type": "stream",
          "text": [
            "State priors: tensor([0.6225, 0.3775], device='mps:0')\n",
            "Emission matrix: tensor([[0.0000, 0.0120, 0.1351, 0.0388, 0.0000, 0.0127, 0.1529, 0.1171, 0.0000,\n",
            "         0.0141, 0.0510, 0.0121, 0.0148, 0.0163, 0.0000, 0.0757, 0.0100, 0.0425,\n",
            "         0.0298, 0.0134, 0.0000, 0.0137, 0.0644, 0.0119, 0.1228, 0.0391],\n",
            "        [0.1667, 0.0000, 0.0000, 0.0000, 0.0621, 0.0000, 0.0000, 0.0000, 0.2245,\n",
            "         0.0000, 0.0000, 0.0000, 0.0000, 0.0000, 0.4337, 0.0000, 0.0000, 0.0000,\n",
            "         0.0000, 0.0000, 0.1129, 0.0000, 0.0000, 0.0000, 0.0000, 0.0000]],\n",
            "       device='mps:0')\n",
            "Transition matrix: tensor([[0., 1.],\n",
            "        [1., 0.]], device='mps:0')\n"
          ]
        }
      ],
      "source": [
        "import string\n",
        "alphabet = string.ascii_lowercase\n",
        "\n",
        "def encode(s):\n",
        "  \"\"\"\n",
        "  Convert a string into a list of integers\n",
        "  \"\"\"\n",
        "  x = [alphabet.index(ss) for ss in s]\n",
        "  return x\n",
        "\n",
        "def decode(x):\n",
        "  \"\"\"\n",
        "  Convert list of ints to string\n",
        "  \"\"\"\n",
        "  s = \"\".join([alphabet[xx] for xx in x])\n",
        "  return s\n",
        "\n",
        "# Initialize the model\n",
        "model = HMM(M=len(alphabet), N=2) \n",
        "\n",
        "# Hard-wiring the parameters!\n",
        "# Let state 0 = consonant, state 1 = vowel\n",
        "for p in model.parameters():\n",
        "    p.requires_grad = False # needed to do lines below\n",
        "model.unnormalized_state_priors[0] = 0.    # Let's start with a consonant more frequently\n",
        "model.unnormalized_state_priors[1] = -0.5\n",
        "print(\"State priors:\", torch.nn.functional.softmax(model.unnormalized_state_priors, dim=0))\n",
        "\n",
        "# In state 0, only allow consonants; in state 1, only allow vowels\n",
        "vowel_indices = torch.tensor([alphabet.index(letter) for letter in \"aeiou\"])\n",
        "consonant_indices = torch.tensor([alphabet.index(letter) for letter in \"bcdfghjklmnpqrstvwxyz\"])\n",
        "model.emission_model.unnormalized_emission_matrix[0, vowel_indices] = -np.inf\n",
        "model.emission_model.unnormalized_emission_matrix[1, consonant_indices] = -np.inf \n",
        "print(\"Emission matrix:\", torch.nn.functional.softmax(model.emission_model.unnormalized_emission_matrix, dim=1))\n",
        "\n",
        "# Only allow vowel -> consonant and consonant -> vowel\n",
        "model.transition_model.unnormalized_transition_matrix[0,0] = -np.inf  # consonant -> consonant\n",
        "model.transition_model.unnormalized_transition_matrix[0,1] = 0.       # vowel -> consonant\n",
        "model.transition_model.unnormalized_transition_matrix[1,0] = 0.       # consonant -> vowel\n",
        "model.transition_model.unnormalized_transition_matrix[1,1] = -np.inf  # vowel -> vowel\n",
        "print(\"Transition matrix:\", torch.nn.functional.softmax(model.transition_model.unnormalized_transition_matrix, dim=0))\n",
        "\n"
      ]
    },
    {
      "cell_type": "code",
      "execution_count": 7,
      "metadata": {
        "colab": {
          "base_uri": "https://localhost:8080/"
        },
        "id": "8latFMD7ua0X",
        "outputId": "18529d60-cfee-421d-f49d-0fd281420b7b"
      },
      "outputs": [
        {
          "name": "stdout",
          "output_type": "stream",
          "text": [
            "x: cidoy\n",
            "z: [0, 1, 0, 1, 0]\n",
            "x: gigub\n",
            "z: [0, 1, 0, 1, 0]\n",
            "x: woyug\n",
            "z: [0, 1, 0, 1, 0]\n",
            "x: azaha\n",
            "z: [1, 0, 1, 0, 1]\n"
          ]
        }
      ],
      "source": [
        "# Sample some outputs\n",
        "for _ in range(4):\n",
        "  sampled_x, sampled_z = model.sample(T=5)\n",
        "  print(\"x:\", decode(sampled_x))\n",
        "  print(\"z:\", sampled_z)"
      ]
    },
    {
      "cell_type": "code",
      "execution_count": 8,
      "metadata": {
        "id": "3CMdK1EfE1SJ"
      },
      "outputs": [],
      "source": [
        "def HMM_forward(self, x, T):\n",
        "  \"\"\"\n",
        "  x : IntTensor of shape (batch size, T_max)\n",
        "  T : IntTensor of shape (batch size)\n",
        "\n",
        "  Compute log p(x) for each example in the batch.\n",
        "  T = length of each example\n",
        "  \"\"\"\n",
        "  if self.is_cuda:\n",
        "    x = x.cuda()\n",
        "    T = T.cuda()\n",
        "\n",
        "  batch_size = x.shape[0]; T_max = x.shape[1]\n",
        "  log_state_priors = torch.nn.functional.log_softmax(self.unnormalized_state_priors, dim=0)\n",
        "  log_alpha = torch.zeros(batch_size, T_max, self.N)\n",
        "  if self.is_cuda: log_alpha = log_alpha.cuda()\n",
        "\n",
        "  log_alpha[:, 0, :] = self.emission_model(x[:,0]) + log_state_priors\n",
        "  for t in range(1, T_max):\n",
        "    log_alpha[:, t, :] = self.emission_model(x[:,t]) + self.transition_model(log_alpha[:, t-1, :])\n",
        "\n",
        "  # Select the sum for the final timestep (each x may have different length).\n",
        "  log_sums = log_alpha.logsumexp(dim=2)\n",
        "  log_probs = torch.gather(log_sums, 1, T.view(-1,1) - 1)\n",
        "  return log_probs\n",
        "\n",
        "def emission_model_forward(self, x_t):\n",
        "  log_emission_matrix = torch.nn.functional.log_softmax(self.unnormalized_emission_matrix, dim=1)\n",
        "  out = log_emission_matrix[:, x_t].transpose(0,1)\n",
        "  return out\n",
        "\n",
        "def transition_model_forward(self, log_alpha):\n",
        "  \"\"\"\n",
        "  log_alpha : Tensor of shape (batch size, N)\n",
        "  Multiply previous timestep's alphas by transition matrix (in log domain)\n",
        "  \"\"\"\n",
        "  log_transition_matrix = torch.nn.functional.log_softmax(self.unnormalized_transition_matrix, dim=0)\n",
        "\n",
        "  # Matrix multiplication in the log domain\n",
        "  out = log_domain_matmul(log_transition_matrix, log_alpha.transpose(0,1)).transpose(0,1)\n",
        "  return out\n",
        "\n",
        "def log_domain_matmul(log_A, log_B):\n",
        "\t\"\"\"\n",
        "\tlog_A : m x n\n",
        "\tlog_B : n x p\n",
        "\toutput : m x p matrix\n",
        "\n",
        "\tNormally, a matrix multiplication\n",
        "\tcomputes out_{i,j} = sum_k A_{i,k} x B_{k,j}\n",
        "\n",
        "\tA log domain matrix multiplication\n",
        "\tcomputes out_{i,j} = logsumexp_k log_A_{i,k} + log_B_{k,j}\n",
        "\t\"\"\"\n",
        "\tm = log_A.shape[0]\n",
        "\tn = log_A.shape[1]\n",
        "\tp = log_B.shape[1]\n",
        "\n",
        "\t# log_A_expanded = torch.stack([log_A] * p, dim=2)\n",
        "\t# log_B_expanded = torch.stack([log_B] * m, dim=0)\n",
        "    # fix for PyTorch > 1.5 by egaznep on Github:\n",
        "\tlog_A_expanded = torch.reshape(log_A, (m,n,1))\n",
        "\tlog_B_expanded = torch.reshape(log_B, (1,n,p))\n",
        "\n",
        "\telementwise_sum = log_A_expanded + log_B_expanded\n",
        "\tout = torch.logsumexp(elementwise_sum, dim=1)\n",
        "\n",
        "\treturn out\n",
        "\n",
        "TransitionModel.forward = transition_model_forward\n",
        "EmissionModel.forward = emission_model_forward\n",
        "HMM.forward = HMM_forward"
      ]
    },
    {
      "cell_type": "code",
      "execution_count": 9,
      "metadata": {
        "colab": {
          "base_uri": "https://localhost:8080/"
        },
        "id": "8rMAmf-UGhbw",
        "outputId": "a6b57c5a-2d50-4214-b4ee-3e29a67904b1"
      },
      "outputs": [
        {
          "name": "stdout",
          "output_type": "stream",
          "text": [
            "tensor([[-4.3148]], device='mps:0')\n",
            "tensor([[-8.9836],\n",
            "        [   -inf]], device='mps:0')\n"
          ]
        }
      ],
      "source": [
        "x = torch.stack( [torch.tensor(encode(\"cat\"))] )\n",
        "T = torch.tensor([3])\n",
        "print(model.forward(x, T))\n",
        "\n",
        "x = torch.stack( [torch.tensor(encode(\"aba\")), torch.tensor(encode(\"abb\"))] )\n",
        "T = torch.tensor([3,3])\n",
        "print(model.forward(x, T))"
      ]
    },
    {
      "cell_type": "code",
      "execution_count": 10,
      "metadata": {
        "id": "qeDG8DVmZ-P0"
      },
      "outputs": [],
      "source": [
        "def viterbi(self, x, T):\n",
        "  \"\"\"\n",
        "  x : IntTensor of shape (batch size, T_max)\n",
        "  T : IntTensor of shape (batch size)\n",
        "  Find argmax_z log p(x|z) for each (x) in the batch.\n",
        "  \"\"\"\n",
        "  if self.is_cuda:\n",
        "    x = x.cuda()\n",
        "    T = T.cuda()\n",
        "\n",
        "  batch_size = x.shape[0]; T_max = x.shape[1]\n",
        "  log_state_priors = torch.nn.functional.log_softmax(self.unnormalized_state_priors, dim=0)\n",
        "  log_delta = torch.zeros(batch_size, T_max, self.N).float()\n",
        "  psi = torch.zeros(batch_size, T_max, self.N).long()\n",
        "  if self.is_cuda:\n",
        "    log_delta = log_delta.cuda()\n",
        "    psi = psi.cuda()\n",
        "\n",
        "  log_delta[:, 0, :] = self.emission_model(x[:,0]) + log_state_priors\n",
        "  for t in range(1, T_max):\n",
        "    max_val, argmax_val = self.transition_model.maxmul(log_delta[:, t-1, :])\n",
        "    log_delta[:, t, :] = self.emission_model(x[:,t]) + max_val\n",
        "    psi[:, t, :] = argmax_val\n",
        "\n",
        "  # Get the log probability of the best path\n",
        "  log_max = log_delta.max(dim=2)[0]\n",
        "  best_path_scores = torch.gather(log_max, 1, T.view(-1,1) - 1)\n",
        "\n",
        "  # This next part is a bit tricky to parallelize across the batch,\n",
        "  # so we will do it separately for each example.\n",
        "  z_star = []\n",
        "  for i in range(0, batch_size):\n",
        "    z_star_i = [ log_delta[i, T[i] - 1, :].max(dim=0)[1].item() ]\n",
        "    for t in range(T[i] - 1, 0, -1):\n",
        "      z_t = psi[i, t, z_star_i[0]].item()\n",
        "      z_star_i.insert(0, z_t)\n",
        "\n",
        "    z_star.append(z_star_i)\n",
        "\n",
        "  return z_star, best_path_scores # return both the best path and its log probability\n",
        "\n",
        "def transition_model_maxmul(self, log_alpha):\n",
        "  log_transition_matrix = torch.nn.functional.log_softmax(self.unnormalized_transition_matrix, dim=0)\n",
        "\n",
        "  out1, out2 = maxmul(log_transition_matrix, log_alpha.transpose(0,1))\n",
        "  return out1.transpose(0,1), out2.transpose(0,1)\n",
        "\n",
        "def maxmul(log_A, log_B):\n",
        "\t\"\"\"\n",
        "\tlog_A : m x n\n",
        "\tlog_B : n x p\n",
        "\toutput : m x p matrix\n",
        "\n",
        "\tSimilar to the log domain matrix multiplication,\n",
        "\tthis computes out_{i,j} = max_k log_A_{i,k} + log_B_{k,j}\n",
        "\t\"\"\"\n",
        "\tm = log_A.shape[0]\n",
        "\tn = log_A.shape[1]\n",
        "\tp = log_B.shape[1]\n",
        "\n",
        "\tlog_A_expanded = torch.stack([log_A] * p, dim=2)\n",
        "\tlog_B_expanded = torch.stack([log_B] * m, dim=0)\n",
        "\n",
        "\telementwise_sum = log_A_expanded + log_B_expanded\n",
        "\tout1,out2 = torch.max(elementwise_sum, dim=1)\n",
        "\n",
        "\treturn out1,out2\n",
        "\n",
        "TransitionModel.maxmul = transition_model_maxmul\n",
        "HMM.viterbi = viterbi"
      ]
    },
    {
      "cell_type": "code",
      "execution_count": 11,
      "metadata": {
        "colab": {
          "base_uri": "https://localhost:8080/"
        },
        "id": "zeOTbaIMc23d",
        "outputId": "d179c535-7b5c-42ea-b348-056b4e7efdd7"
      },
      "outputs": [
        {
          "name": "stdout",
          "output_type": "stream",
          "text": [
            "([[1, 0, 1], [1, 0, -1]], tensor([[-8.9836],\n",
            "        [   -inf]], device='mps:0'))\n"
          ]
        }
      ],
      "source": [
        "x = torch.stack( [torch.tensor(encode(\"aba\")), torch.tensor(encode(\"abb\"))] )\n",
        "T = torch.tensor([3,3])\n",
        "print(model.viterbi(x, T))"
      ]
    },
    {
      "cell_type": "code",
      "execution_count": 12,
      "metadata": {
        "colab": {
          "base_uri": "https://localhost:8080/"
        },
        "id": "L9fBOHvdeqWC",
        "outputId": "25808413-b061-414b-aa49-c5403be214db"
      },
      "outputs": [
        {
          "name": "stdout",
          "output_type": "stream",
          "text": [
            "tensor([[-8.9836],\n",
            "        [   -inf]], device='mps:0')\n",
            "tensor([[-8.9836],\n",
            "        [   -inf]], device='mps:0')\n"
          ]
        }
      ],
      "source": [
        "print(model.forward(x, T))\n",
        "print(model.viterbi(x, T)[1])"
      ]
    },
    {
      "cell_type": "code",
      "execution_count": 13,
      "metadata": {
        "colab": {
          "base_uri": "https://localhost:8080/"
        },
        "id": "x__70tB6gnkF",
        "outputId": "e75db689-519f-4208-9238-794a16167224"
      },
      "outputs": [
        {
          "name": "stdout",
          "output_type": "stream",
          "text": [
            "tensor(3., device='mps:0')\n",
            "tensor(3.4076, device='mps:0')\n"
          ]
        }
      ],
      "source": [
        "x = torch.tensor([1., 2., 3.])\n",
        "print(x.max(dim=0)[0])\n",
        "print(x.logsumexp(dim=0))"
      ]
    },
    {
      "cell_type": "code",
      "execution_count": 14,
      "metadata": {
        "id": "KqiFobGHwdzc"
      },
      "outputs": [],
      "source": [
        "import torch.utils.data\n",
        "from collections import Counter\n",
        "from sklearn.model_selection import train_test_split\n",
        "\n",
        "class TextDataset(torch.utils.data.Dataset):\n",
        "  def __init__(self, lines):\n",
        "    self.lines = lines # list of strings\n",
        "    collate = Collate() # function for generating a minibatch from strings\n",
        "    self.loader = torch.utils.data.DataLoader(self, batch_size=1024, shuffle=True, collate_fn=collate, generator=torch.Generator(device='mps:0'))\n",
        "\n",
        "  def __len__(self):\n",
        "    return len(self.lines)\n",
        "\n",
        "  def __getitem__(self, idx):\n",
        "    line = self.lines[idx].lstrip(\" \").rstrip(\"\\n\").rstrip(\" \").rstrip(\"\\n\")\n",
        "    return line\n",
        "\n",
        "class Collate:\n",
        "  def __init__(self):\n",
        "    pass\n",
        "\n",
        "  def __call__(self, batch):\n",
        "    \"\"\"\n",
        "    Returns a minibatch of strings, padded to have the same length.\n",
        "    \"\"\"\n",
        "    x = []\n",
        "    batch_size = len(batch)\n",
        "    for index in range(batch_size):\n",
        "      x_ = batch[index]\n",
        "\n",
        "      # convert letters to integers\n",
        "      x.append(encode(x_))\n",
        "\n",
        "    # pad all sequences with 0 to have same length\n",
        "    x_lengths = [len(x_) for x_ in x]\n",
        "    T = max(x_lengths)\n",
        "    for index in range(batch_size):\n",
        "      x[index] += [0] * (T - len(x[index]))\n",
        "      x[index] = torch.tensor(x[index])\n",
        "\n",
        "    # stack into single tensor\n",
        "    x = torch.stack(x)\n",
        "    x_lengths = torch.tensor(x_lengths)\n",
        "    return (x,x_lengths)"
      ]
    },
    {
      "cell_type": "code",
      "execution_count": 15,
      "metadata": {
        "colab": {
          "base_uri": "https://localhost:8080/"
        },
        "id": "52NqFHg8ANsB",
        "outputId": "18754e86-1d8c-4e85-a930-827a5d49793d"
      },
      "outputs": [],
      "source": [
        "# !wget https://raw.githubusercontent.com/lorenlugosch/pytorch_HMM/master/data/train/training.txt\n",
        "\n",
        "filename = \"training.txt\"\n",
        "\n",
        "with open(filename, \"r\") as f:\n",
        "  lines = f.readlines() # each line of lines will have one word\n",
        "\n",
        "alphabet = list(Counter((\"\".join(lines))).keys())\n",
        "train_lines, valid_lines = train_test_split(lines, test_size=0.1, random_state=42)\n",
        "train_dataset = TextDataset(train_lines)\n",
        "valid_dataset = TextDataset(valid_lines)\n",
        "\n",
        "M = len(alphabet)"
      ]
    },
    {
      "cell_type": "code",
      "execution_count": 16,
      "metadata": {
        "id": "iypy_neX9cpq"
      },
      "outputs": [],
      "source": [
        "from tqdm import tqdm # for displaying progress bar\n",
        "\n",
        "class Trainer:\n",
        "  def __init__(self, model, lr):\n",
        "    self.model = model\n",
        "    self.lr = lr\n",
        "    self.optimizer = torch.optim.Adam(model.parameters(), lr=self.lr, weight_decay=0.00001)\n",
        "  \n",
        "  def train(self, dataset):\n",
        "    train_loss = 0\n",
        "    num_samples = 0\n",
        "    self.model.train()\n",
        "    print_interval = 50\n",
        "    for idx, batch in enumerate(tqdm(dataset.loader)):\n",
        "      x,T = batch\n",
        "      batch_size = len(x)\n",
        "      num_samples += batch_size\n",
        "      log_probs = self.model(x,T)\n",
        "      loss = -log_probs.mean()\n",
        "      self.optimizer.zero_grad()\n",
        "      loss.backward()\n",
        "      self.optimizer.step()\n",
        "      train_loss += loss.cpu().data.numpy().item() * batch_size\n",
        "      if idx % print_interval == 0:\n",
        "        print(\"loss:\", loss.item())\n",
        "        for _ in range(5):\n",
        "          sampled_x, sampled_z = self.model.sample()\n",
        "          print(decode(sampled_x))\n",
        "          print(sampled_z)\n",
        "    train_loss /= num_samples\n",
        "    return train_loss\n",
        "\n",
        "  def test(self, dataset):\n",
        "    test_loss = 0\n",
        "    num_samples = 0\n",
        "    self.model.eval()\n",
        "    print_interval = 50\n",
        "    for idx, batch in enumerate(dataset.loader):\n",
        "      x,T = batch\n",
        "      batch_size = len(x)\n",
        "      num_samples += batch_size\n",
        "      log_probs = self.model(x,T)\n",
        "      loss = -log_probs.mean()\n",
        "      test_loss += loss.cpu().data.numpy().item() * batch_size\n",
        "      if idx % print_interval == 0:\n",
        "        print(\"loss:\", loss.item())\n",
        "        sampled_x, sampled_z = self.model.sample()\n",
        "        print(decode(sampled_x))\n",
        "        print(sampled_z)\n",
        "    test_loss /= num_samples\n",
        "    return test_loss"
      ]
    },
    {
      "cell_type": "code",
      "execution_count": 17,
      "metadata": {
        "colab": {
          "base_uri": "https://localhost:8080/"
        },
        "id": "1-NGIK1Q9g2C",
        "outputId": "71b7ed8f-e021-41f1-c043-cadcb3df8b07"
      },
      "outputs": [
        {
          "name": "stdout",
          "output_type": "stream",
          "text": [
            "========= Epoch 1 of 10 =========\n"
          ]
        },
        {
          "name": "stderr",
          "output_type": "stream",
          "text": [
            "  0%|          | 0/208 [00:00<?, ?it/s]"
          ]
        },
        {
          "name": "stdout",
          "output_type": "stream",
          "text": [
            "loss: 38.04960632324219\n",
            "kLXe-bfWnN\n",
            "[53, 53, 42, 63, 21, 32, 40, 35, 44, 16]\n",
            "DImAmwKvLq\n",
            "[55, 17, 39, 33, 46, 60, 33, 34, 7, 48]\n"
          ]
        },
        {
          "name": "stderr",
          "output_type": "stream",
          "text": [
            "  0%|          | 1/208 [00:03<10:48,  3.13s/it]"
          ]
        },
        {
          "name": "stdout",
          "output_type": "stream",
          "text": [
            "jqaSSWQxVL\n",
            "[6, 32, 30, 30, 52, 16, 44, 21, 45, 52]\n",
            "epQ\n",
            "KPzHkq\n",
            "[47, 28, 2, 0, 63, 18, 39, 14, 14, 9]\n",
            "xC\n",
            "PnB\n",
            "oEx\n",
            "[7, 48, 8, 11, 10, 10, 53, 33, 14, 46]\n"
          ]
        },
        {
          "name": "stderr",
          "output_type": "stream",
          "text": [
            " 24%|██▍       | 50/208 [00:16<00:42,  3.73it/s]"
          ]
        },
        {
          "name": "stdout",
          "output_type": "stream",
          "text": [
            "loss: 32.982521057128906\n",
            "mnYlaASezq\n",
            "[30, 4, 48, 36, 14, 44, 21, 50, 21, 53]\n",
            "amlizxEUyN\n",
            "[26, 37, 28, 0, 35, 12, 25, 40, 60, 16]\n",
            "MpQMRQnscp\n",
            "[37, 0, 14, 29, 7, 63, 25, 49, 50, 16]\n",
            "qdrrat\n",
            "uae\n",
            "[24, 34, 22, 52, 30, 28, 58, 30, 49, 19]\n"
          ]
        },
        {
          "name": "stderr",
          "output_type": "stream",
          "text": [
            " 25%|██▍       | 51/208 [00:17<00:53,  2.93it/s]"
          ]
        },
        {
          "name": "stdout",
          "output_type": "stream",
          "text": [
            "KtjlsoWzru\n",
            "[22, 4, 52, 6, 32, 34, 58, 19, 48, 56]\n"
          ]
        },
        {
          "name": "stderr",
          "output_type": "stream",
          "text": [
            " 48%|████▊     | 100/208 [00:30<00:29,  3.70it/s]"
          ]
        },
        {
          "name": "stdout",
          "output_type": "stream",
          "text": [
            "loss: 29.74675750732422\n",
            "kerSmidrwt\n",
            "[46, 45, 36, 47, 58, 42, 6, 36, 38, 9]\n",
            "lmfcttRnpG\n",
            "[45, 10, 4, 25, 21, 32, 0, 29, 14, 43]\n",
            "OLrsoaEnTe\n",
            "[1, 45, 36, 18, 52, 18, 36, 32, 2, 47]\n",
            "lrsptCa\n",
            "lW\n",
            "[26, 22, 26, 34, 28, 24, 4, 49, 38, 37]\n"
          ]
        },
        {
          "name": "stderr",
          "output_type": "stream",
          "text": [
            " 49%|████▊     | 101/208 [00:31<00:36,  2.93it/s]"
          ]
        },
        {
          "name": "stdout",
          "output_type": "stream",
          "text": [
            "rNtthcXocr\n",
            "[59, 16, 38, 55, 31, 21, 50, 21, 50, 22]\n"
          ]
        },
        {
          "name": "stderr",
          "output_type": "stream",
          "text": [
            " 72%|███████▏  | 150/208 [00:44<00:16,  3.56it/s]"
          ]
        },
        {
          "name": "stdout",
          "output_type": "stream",
          "text": [
            "loss: 28.041339874267578\n",
            "ddOhypicge\n",
            "[46, 32, 16, 11, 56, 62, 16, 25, 8, 0]\n",
            "uJtmnvoncn\n",
            "[46, 0, 42, 57, 0, 29, 0, 29, 50, 21]\n",
            "qeWPoihpng\n",
            "[7, 37, 0, 39, 14, 14, 16, 46, 4, 18]\n",
            "oucytreooi\n",
            "[18, 16, 6, 47, 55, 36, 47, 4, 26, 0]\n"
          ]
        },
        {
          "name": "stderr",
          "output_type": "stream",
          "text": [
            " 73%|███████▎  | 151/208 [00:45<00:19,  2.86it/s]"
          ]
        },
        {
          "name": "stdout",
          "output_type": "stream",
          "text": [
            "tPejumaCbt\n",
            "[22, 20, 50, 21, 52, 39, 0, 59, 26, 55]\n"
          ]
        },
        {
          "name": "stderr",
          "output_type": "stream",
          "text": [
            " 96%|█████████▌| 200/208 [00:58<00:02,  3.80it/s]"
          ]
        },
        {
          "name": "stdout",
          "output_type": "stream",
          "text": [
            "loss: 27.020925521850586\n",
            "drtlstotoo\n",
            "[30, 16, 42, 63, 9, 55, 0, 29, 14, 0]\n",
            "edgucgluin\n",
            "[47, 21, 24, 37, 25, 3, 34, 4, 16, 25]\n",
            "cletoaenrJ\n",
            "[30, 53, 59, 39, 14, 26, 50, 21, 42, 22]\n",
            "ladeliZhxc\n",
            "[46, 0, 29, 45, 22, 0, 29, 50, 21, 26]\n"
          ]
        },
        {
          "name": "stderr",
          "output_type": "stream",
          "text": [
            " 97%|█████████▋| 201/208 [00:58<00:02,  3.05it/s]"
          ]
        },
        {
          "name": "stdout",
          "output_type": "stream",
          "text": [
            "yepheritHc\n",
            "[7, 47, 15, 55, 45, 36, 49, 42, 4, 30]\n"
          ]
        },
        {
          "name": "stderr",
          "output_type": "stream",
          "text": [
            "100%|██████████| 208/208 [01:00<00:00,  3.44it/s]\n"
          ]
        },
        {
          "name": "stdout",
          "output_type": "stream",
          "text": [
            "loss: 26.387760162353516\n",
            "kanemipron\n",
            "[37, 0, 29, 50, 18, 16, 9, 7, 60, 25]\n",
            "========= Results: epoch 1 of 10 =========\n",
            "train loss: 30.49| valid loss: 26.45\n",
            "\n",
            "========= Epoch 2 of 10 =========\n"
          ]
        },
        {
          "name": "stderr",
          "output_type": "stream",
          "text": [
            "  0%|          | 0/208 [00:00<?, ?it/s]"
          ]
        },
        {
          "name": "stdout",
          "output_type": "stream",
          "text": [
            "loss: 26.39613151550293\n",
            "-rrhcchznt\n",
            "[1, 16, 9, 55, 45, 30, 55, 0, 29, 55]\n",
            "dluNlyWMcH\n",
            "[46, 51, 37, 34, 34, 60, 9, 45, 30, 55]\n",
            "gytteeatyp\n",
            "[24, 0, 29, 55, 45, 63, 0, 42, 5, 9]\n"
          ]
        },
        {
          "name": "stderr",
          "output_type": "stream",
          "text": [
            "  0%|          | 1/208 [00:00<01:52,  1.84it/s]"
          ]
        },
        {
          "name": "stdout",
          "output_type": "stream",
          "text": [
            "rateguanip\n",
            "[22, 0, 14, 13, 14, 30, 0, 21, 24, 22]\n",
            "tcuclyofai\n",
            "[24, 24, 4, 26, 34, 60, 4, 16, 30, 52]\n"
          ]
        },
        {
          "name": "stderr",
          "output_type": "stream",
          "text": [
            " 24%|██▍       | 50/208 [00:14<00:42,  3.69it/s]"
          ]
        },
        {
          "name": "stdout",
          "output_type": "stream",
          "text": [
            "loss: 25.71279525756836\n",
            "niorapiyug\n",
            "[29, 16, 0, 59, 0, 29, 16, 26, 37, 29]\n",
            "saxobyolin\n",
            "[24, 37, 62, 0, 35, 5, 0, 34, 0, 29]\n",
            "vtrFasesbu\n",
            "[46, 14, 36, 63, 0, 29, 50, 21, 26, 37]\n",
            "ePXecohcli\n",
            "[50, 36, 51, 45, 30, 4, 39, 26, 34, 16]\n"
          ]
        },
        {
          "name": "stderr",
          "output_type": "stream",
          "text": [
            " 25%|██▍       | 51/208 [00:14<00:53,  2.91it/s]"
          ]
        },
        {
          "name": "stdout",
          "output_type": "stream",
          "text": [
            "oqeotoaict\n",
            "[37, 20, 50, 21, 26, 0, 35, 16, 9, 55]\n"
          ]
        },
        {
          "name": "stderr",
          "output_type": "stream",
          "text": [
            " 48%|████▊     | 100/208 [00:28<00:32,  3.29it/s]"
          ]
        },
        {
          "name": "stdout",
          "output_type": "stream",
          "text": [
            "loss: 25.006629943847656\n",
            "PaticEniri\n",
            "[24, 4, 42, 16, 25, 50, 21, 49, 36, 16]\n",
            "weeratisha\n",
            "[46, 0, 29, 22, 0, 29, 16, 9, 55, 45]\n",
            "iftekgfyup\n",
            "[0, 29, 55, 45, 36, 8, 51, 60, 4, 26]\n"
          ]
        },
        {
          "name": "stderr",
          "output_type": "stream",
          "text": [
            " 49%|████▊     | 101/208 [00:28<00:42,  2.51it/s]"
          ]
        },
        {
          "name": "stdout",
          "output_type": "stream",
          "text": [
            "nickercoto\n",
            "[29, 16, 25, 3, 45, 36, 30, 60, 29, 52]\n",
            "priverboti\n",
            "[24, 22, 0, 39, 45, 36, 34, 49, 42, 16]\n"
          ]
        },
        {
          "name": "stderr",
          "output_type": "stream",
          "text": [
            " 72%|███████▏  | 150/208 [00:42<00:15,  3.81it/s]"
          ]
        },
        {
          "name": "stdout",
          "output_type": "stream",
          "text": [
            "loss: 24.798236846923828\n",
            "crantlapoe\n",
            "[24, 22, 0, 29, 55, 22, 0, 29, 47, 45]\n",
            "bigiinaden\n",
            "[8, 0, 29, 16, 0, 29, 16, 25, 50, 21]\n",
            "cymctaxUed\n",
            "[24, 45, 21, 30, 55, 0, 21, 26, 45, 36]\n",
            "unrhelpiep\n",
            "[37, 21, 30, 55, 45, 36, 39, 5, 0, 29]\n"
          ]
        },
        {
          "name": "stderr",
          "output_type": "stream",
          "text": [
            " 73%|███████▎  | 151/208 [00:42<00:19,  2.98it/s]"
          ]
        },
        {
          "name": "stdout",
          "output_type": "stream",
          "text": [
            "icWohoTtri\n",
            "[16, 25, 8, 0, 29, 45, 36, 42, 22, 52]\n"
          ]
        },
        {
          "name": "stderr",
          "output_type": "stream",
          "text": [
            " 96%|█████████▌| 200/208 [00:55<00:02,  3.73it/s]"
          ]
        },
        {
          "name": "stdout",
          "output_type": "stream",
          "text": [
            "loss: 24.698890686035156\n",
            "fagousiver\n",
            "[46, 0, 29, 52, 4, 9, 16, 53, 45, 36]\n",
            "voflalnstE\n",
            "[46, 0, 26, 34, 45, 36, 29, 9, 55, 14]\n",
            "jhocynateg\n",
            "[30, 55, 0, 29, 60, 29, 0, 29, 0, 29]\n"
          ]
        },
        {
          "name": "stderr",
          "output_type": "stream",
          "text": [
            " 97%|█████████▋| 201/208 [00:56<00:02,  2.92it/s]"
          ]
        },
        {
          "name": "stdout",
          "output_type": "stream",
          "text": [
            "dandqprsim\n",
            "[46, 0, 21, 42, 40, 45, 36, 30, 52, 39]\n",
            "perlhiahio\n",
            "[46, 45, 36, 9, 55, 16, 9, 55, 16, 0]\n"
          ]
        },
        {
          "name": "stderr",
          "output_type": "stream",
          "text": [
            "100%|██████████| 208/208 [00:58<00:00,  3.58it/s]\n"
          ]
        },
        {
          "name": "stdout",
          "output_type": "stream",
          "text": [
            "loss: 24.69890785217285\n",
            "pablyneKju\n",
            "[24, 0, 32, 34, 60, 29, 45, 36, 11, 37]\n",
            "========= Results: epoch 2 of 10 =========\n",
            "train loss: 25.18| valid loss: 24.54\n",
            "\n",
            "========= Epoch 3 of 10 =========\n"
          ]
        },
        {
          "name": "stderr",
          "output_type": "stream",
          "text": [
            "  0%|          | 0/208 [00:00<?, ?it/s]"
          ]
        },
        {
          "name": "stdout",
          "output_type": "stream",
          "text": [
            "loss: 24.635353088378906\n",
            "abrotenshi\n",
            "[0, 29, 22, 0, 42, 45, 36, 9, 55, 16]\n",
            "thishitieg\n",
            "[30, 55, 16, 30, 55, 16, 9, 16, 0, 29]\n",
            "suprorbest\n",
            "[24, 4, 55, 22, 0, 36, 26, 50, 21, 42]\n"
          ]
        },
        {
          "name": "stderr",
          "output_type": "stream",
          "text": [
            "  0%|          | 1/208 [00:00<01:47,  1.92it/s]"
          ]
        },
        {
          "name": "stdout",
          "output_type": "stream",
          "text": [
            "oOtotariok\n",
            "[0, 4, 42, 0, 29, 0, 36, 16, 0, 29]\n",
            "eanbatging\n",
            "[0, 37, 21, 26, 0, 29, 3, 16, 25, 3]\n"
          ]
        },
        {
          "name": "stderr",
          "output_type": "stream",
          "text": [
            " 24%|██▍       | 50/208 [00:14<00:43,  3.66it/s]"
          ]
        },
        {
          "name": "stdout",
          "output_type": "stream",
          "text": [
            "loss: 24.287635803222656\n",
            "lyactorast\n",
            "[22, 5, 0, 9, 55, 0, 36, 49, 42, 60]\n",
            "irgeistilm\n",
            "[0, 29, 31, 45, 0, 9, 55, 16, 34, 39]\n",
            "padengusyb\n",
            "[43, 0, 42, 45, 36, 29, 16, 30, 60, 26]\n"
          ]
        },
        {
          "name": "stderr",
          "output_type": "stream",
          "text": [
            " 25%|██▍       | 51/208 [00:14<00:55,  2.85it/s]"
          ]
        },
        {
          "name": "stdout",
          "output_type": "stream",
          "text": [
            "prozylopke\n",
            "[24, 22, 0, 39, 60, 34, 0, 9, 55, 45]\n",
            "cenWidetia\n",
            "[46, 52, 21, 42, 16, 25, 45, 42, 16, 0]\n"
          ]
        },
        {
          "name": "stderr",
          "output_type": "stream",
          "text": [
            " 48%|████▊     | 100/208 [00:27<00:28,  3.73it/s]"
          ]
        },
        {
          "name": "stdout",
          "output_type": "stream",
          "text": [
            "loss: 24.18640899658203\n",
            "peeskicina\n",
            "[24, 45, 0, 9, 55, 16, 9, 16, 25, 50]\n",
            "siddigilat\n",
            "[30, 0, 36, 29, 16, 25, 3, 34, 60, 29]\n",
            "Trasiolana\n",
            "[24, 22, 0, 29, 16, 0, 29, 0, 29, 0]\n"
          ]
        },
        {
          "name": "stderr",
          "output_type": "stream",
          "text": [
            " 49%|████▊     | 101/208 [00:28<00:37,  2.88it/s]"
          ]
        },
        {
          "name": "stdout",
          "output_type": "stream",
          "text": [
            "onatoamizi\n",
            "[0, 29, 0, 29, 0, 37, 39, 16, 25, 16]\n",
            "motinilate\n",
            "[39, 0, 29, 16, 25, 3, 34, 45, 42, 45]\n"
          ]
        },
        {
          "name": "stderr",
          "output_type": "stream",
          "text": [
            " 72%|███████▏  | 150/208 [00:42<00:15,  3.73it/s]"
          ]
        },
        {
          "name": "stdout",
          "output_type": "stream",
          "text": [
            "loss: 24.31041717529297\n",
            "pransedNdB\n",
            "[24, 22, 0, 29, 42, 50, 6, 16, 25, 3]\n",
            "bomatatete\n",
            "[46, 52, 39, 49, 42, 45, 42, 49, 42, 50]\n",
            "poticoicai\n",
            "[46, 0, 42, 16, 42, 60, 16, 25, 3, 16]\n"
          ]
        },
        {
          "name": "stderr",
          "output_type": "stream",
          "text": [
            " 73%|███████▎  | 151/208 [00:42<00:20,  2.78it/s]"
          ]
        },
        {
          "name": "stdout",
          "output_type": "stream",
          "text": [
            "shertigere\n",
            "[9, 55, 45, 36, 42, 16, 31, 45, 36, 50]\n",
            "stymmenmba\n",
            "[30, 55, 60, 39, 39, 45, 36, 39, 18, 0]\n"
          ]
        },
        {
          "name": "stderr",
          "output_type": "stream",
          "text": [
            " 96%|█████████▌| 200/208 [00:56<00:02,  3.67it/s]"
          ]
        },
        {
          "name": "stdout",
          "output_type": "stream",
          "text": [
            "loss: 24.15997314453125\n",
            "incerouneg\n",
            "[37, 21, 42, 45, 36, 38, 37, 29, 0, 29]\n",
            "semstynsoc\n",
            "[46, 52, 39, 49, 42, 60, 21, 30, 0, 29]\n",
            "bWreereter\n",
            "[46, 0, 36, 47, 45, 36, 52, 24, 45, 36]\n",
            "tagaxoraty\n",
            "[24, 0, 29, 0, 29, 0, 36, 14, 55, 60]\n"
          ]
        },
        {
          "name": "stderr",
          "output_type": "stream",
          "text": [
            " 97%|█████████▋| 201/208 [00:56<00:02,  2.91it/s]"
          ]
        },
        {
          "name": "stdout",
          "output_type": "stream",
          "text": [
            "nibinalars\n",
            "[29, 16, 32, 16, 25, 3, 34, 0, 36, 30]\n"
          ]
        },
        {
          "name": "stderr",
          "output_type": "stream",
          "text": [
            "100%|██████████| 208/208 [00:58<00:00,  3.56it/s]\n"
          ]
        },
        {
          "name": "stdout",
          "output_type": "stream",
          "text": [
            "loss: 23.726512908935547\n",
            "wostormban\n",
            "[24, 0, 21, 42, 45, 36, 39, 18, 0, 29]\n",
            "========= Results: epoch 3 of 10 =========\n",
            "train loss: 24.25| valid loss: 24.11\n",
            "\n",
            "========= Epoch 4 of 10 =========\n"
          ]
        },
        {
          "name": "stderr",
          "output_type": "stream",
          "text": [
            "  0%|          | 0/208 [00:00<?, ?it/s]"
          ]
        },
        {
          "name": "stdout",
          "output_type": "stream",
          "text": [
            "loss: 24.068622589111328\n",
            "oeyrostorw\n",
            "[0, 36, 60, 22, 0, 21, 42, 45, 36, 18]\n",
            "rievarypar\n",
            "[22, 16, 0, 53, 45, 22, 5, 8, 0, 36]\n",
            "pwetiaxmen\n",
            "[24, 22, 50, 42, 16, 0, 21, 39, 50, 21]\n",
            "dullenRhig\n",
            "[40, 4, 34, 34, 50, 21, 30, 55, 16, 25]\n"
          ]
        },
        {
          "name": "stderr",
          "output_type": "stream",
          "text": [
            "  0%|          | 1/208 [00:00<01:47,  1.93it/s]"
          ]
        },
        {
          "name": "stdout",
          "output_type": "stream",
          "text": [
            "flydroviph\n",
            "[51, 34, 60, 24, 22, 0, 53, 16, 9, 55]\n"
          ]
        },
        {
          "name": "stderr",
          "output_type": "stream",
          "text": [
            " 24%|██▍       | 50/208 [00:13<00:42,  3.73it/s]"
          ]
        },
        {
          "name": "stdout",
          "output_type": "stream",
          "text": [
            "loss: 23.755441665649414\n",
            "daqurisher\n",
            "[46, 0, 40, 4, 36, 16, 9, 55, 45, 36]\n",
            "stypluYiom\n",
            "[30, 55, 60, 26, 34, 4, 35, 16, 0, 39]\n",
            "shamerount\n",
            "[30, 55, 0, 39, 45, 36, 38, 37, 21, 55]\n",
            "utgrovefco\n",
            "[37, 29, 31, 22, 0, 53, 50, 21, 30, 0]\n"
          ]
        },
        {
          "name": "stderr",
          "output_type": "stream",
          "text": [
            " 25%|██▍       | 51/208 [00:14<00:53,  2.94it/s]"
          ]
        },
        {
          "name": "stdout",
          "output_type": "stream",
          "text": [
            "nocerilyst\n",
            "[22, 52, 26, 45, 36, 16, 34, 60, 9, 55]\n"
          ]
        },
        {
          "name": "stderr",
          "output_type": "stream",
          "text": [
            " 48%|████▊     | 100/208 [00:27<00:29,  3.68it/s]"
          ]
        },
        {
          "name": "stdout",
          "output_type": "stream",
          "text": [
            "loss: 23.777591705322266\n",
            "veaikillka\n",
            "[53, 50, 6, 16, 53, 16, 34, 34, 53, 45]\n",
            "ushinaciac\n",
            "[37, 30, 55, 16, 25, 3, 25, 16, 0, 9]\n",
            "lantelymvm\n",
            "[22, 0, 21, 42, 45, 34, 60, 39, 39, 39]\n",
            "kanflylame\n",
            "[46, 0, 21, 51, 22, 60, 34, 0, 39, 50]\n"
          ]
        },
        {
          "name": "stderr",
          "output_type": "stream",
          "text": [
            " 49%|████▊     | 101/208 [00:28<00:37,  2.85it/s]"
          ]
        },
        {
          "name": "stdout",
          "output_type": "stream",
          "text": [
            "rescambedl\n",
            "[22, 50, 21, 9, 0, 39, 18, 45, 6, 34]\n"
          ]
        },
        {
          "name": "stderr",
          "output_type": "stream",
          "text": [
            " 72%|███████▏  | 150/208 [00:41<00:15,  3.74it/s]"
          ]
        },
        {
          "name": "stdout",
          "output_type": "stream",
          "text": [
            "loss: 23.57806396484375\n",
            "Eotiandanr\n",
            "[24, 0, 42, 16, 0, 21, 42, 0, 29, 22]\n",
            "hamiptetan\n",
            "[46, 0, 39, 16, 9, 55, 45, 42, 0, 21]\n",
            "alypaviaxe\n",
            "[0, 34, 60, 26, 0, 53, 16, 0, 29, 0]\n",
            "agablurmMr\n",
            "[0, 29, 0, 32, 34, 45, 36, 39, 45, 36]\n"
          ]
        },
        {
          "name": "stderr",
          "output_type": "stream",
          "text": [
            " 73%|███████▎  | 151/208 [00:42<00:19,  2.92it/s]"
          ]
        },
        {
          "name": "stdout",
          "output_type": "stream",
          "text": [
            "biZmacashi\n",
            "[46, 16, 9, 55, 0, 25, 3, 9, 55, 16]\n"
          ]
        },
        {
          "name": "stderr",
          "output_type": "stream",
          "text": [
            " 96%|█████████▌| 200/208 [00:55<00:02,  3.75it/s]"
          ]
        },
        {
          "name": "stdout",
          "output_type": "stream",
          "text": [
            "loss: 24.040958404541016\n",
            "sencineica\n",
            "[30, 45, 21, 30, 16, 25, 50, 16, 9, 0]\n",
            "munaesenti\n",
            "[46, 4, 25, 3, 50, 21, 50, 21, 42, 16]\n",
            "uncenguati\n",
            "[37, 21, 42, 50, 21, 40, 4, 49, 42, 16]\n"
          ]
        },
        {
          "name": "stderr",
          "output_type": "stream",
          "text": [
            " 97%|█████████▋| 201/208 [00:56<00:02,  2.84it/s]"
          ]
        },
        {
          "name": "stdout",
          "output_type": "stream",
          "text": [
            "onediskrer\n",
            "[0, 29, 50, 6, 16, 9, 55, 22, 45, 36]\n",
            "stltheerli\n",
            "[30, 50, 21, 42, 7, 52, 45, 36, 38, 37]\n"
          ]
        },
        {
          "name": "stderr",
          "output_type": "stream",
          "text": [
            "100%|██████████| 208/208 [00:57<00:00,  3.59it/s]\n"
          ]
        },
        {
          "name": "stdout",
          "output_type": "stream",
          "text": [
            "loss: 24.051681518554688\n",
            "hostiahush\n",
            "[46, 0, 9, 55, 16, 0, 43, 4, 9, 55]\n",
            "========= Results: epoch 4 of 10 =========\n",
            "train loss: 23.97| valid loss: 23.93\n",
            "\n",
            "========= Epoch 5 of 10 =========\n"
          ]
        },
        {
          "name": "stderr",
          "output_type": "stream",
          "text": [
            "  0%|          | 0/208 [00:00<?, ?it/s]"
          ]
        },
        {
          "name": "stdout",
          "output_type": "stream",
          "text": [
            "loss: 24.166139602661133\n",
            "lorsnabliz\n",
            "[22, 0, 36, 30, 25, 3, 32, 34, 16, 25]\n",
            "culescolle\n",
            "[30, 4, 34, 50, 21, 30, 0, 34, 34, 52]\n",
            "droeendici\n",
            "[24, 22, 52, 50, 0, 21, 42, 16, 9, 16]\n"
          ]
        },
        {
          "name": "stderr",
          "output_type": "stream",
          "text": [
            "  0%|          | 1/208 [00:00<01:48,  1.92it/s]"
          ]
        },
        {
          "name": "stdout",
          "output_type": "stream",
          "text": [
            "spinatiark\n",
            "[30, 55, 16, 25, 49, 42, 16, 0, 36, 14]\n",
            "sunarbochi\n",
            "[30, 4, 26, 45, 36, 8, 0, 9, 55, 16]\n"
          ]
        },
        {
          "name": "stderr",
          "output_type": "stream",
          "text": [
            " 24%|██▍       | 50/208 [00:13<00:43,  3.66it/s]"
          ]
        },
        {
          "name": "stdout",
          "output_type": "stream",
          "text": [
            "loss: 23.644033432006836\n",
            "symadirpte\n",
            "[30, 60, 39, 49, 42, 45, 36, 9, 55, 52]\n",
            "endelusana\n",
            "[50, 21, 42, 45, 34, 5, 9, 0, 21, 30]\n",
            "paritoriol\n",
            "[24, 0, 36, 49, 42, 45, 36, 16, 0, 34]\n"
          ]
        },
        {
          "name": "stderr",
          "output_type": "stream",
          "text": [
            " 25%|██▍       | 51/208 [00:14<00:54,  2.87it/s]"
          ]
        },
        {
          "name": "stdout",
          "output_type": "stream",
          "text": [
            "qZiteatety\n",
            "[40, 4, 16, 42, 45, 49, 42, 52, 29, 60]\n",
            "umpurlicen\n",
            "[37, 39, 18, 4, 36, 34, 16, 25, 50, 21]\n"
          ]
        },
        {
          "name": "stderr",
          "output_type": "stream",
          "text": [
            " 48%|████▊     | 100/208 [00:27<00:28,  3.76it/s]"
          ]
        },
        {
          "name": "stdout",
          "output_type": "stream",
          "text": [
            "loss: 23.997222900390625\n",
            "terarregla\n",
            "[24, 45, 36, 0, 36, 22, 50, 3, 34, 0]\n",
            "bantedilll\n",
            "[18, 0, 21, 42, 52, 29, 16, 34, 34, 34]\n",
            "riamitenoc\n",
            "[22, 16, 0, 39, 16, 42, 52, 29, 0, 9]\n",
            "parQtolmpl\n",
            "[26, 45, 36, 49, 42, 45, 36, 39, 26, 34]\n"
          ]
        },
        {
          "name": "stderr",
          "output_type": "stream",
          "text": [
            " 49%|████▊     | 101/208 [00:27<00:36,  2.95it/s]"
          ]
        },
        {
          "name": "stdout",
          "output_type": "stream",
          "text": [
            "isuinailim\n",
            "[37, 30, 4, 16, 29, 0, 16, 34, 16, 40]\n"
          ]
        },
        {
          "name": "stderr",
          "output_type": "stream",
          "text": [
            " 72%|███████▏  | 150/208 [00:40<00:15,  3.75it/s]"
          ]
        },
        {
          "name": "stdout",
          "output_type": "stream",
          "text": [
            "loss: 23.67516326904297\n",
            "dAntinaler\n",
            "[46, 37, 21, 42, 16, 25, 3, 34, 0, 36]\n",
            "caecapllis\n",
            "[46, 0, 52, 8, 0, 26, 34, 34, 16, 9]\n",
            "nackapolen\n",
            "[46, 0, 25, 31, 0, 26, 0, 34, 50, 21]\n",
            "demonenshy\n",
            "[46, 0, 39, 0, 21, 50, 21, 30, 55, 60]\n"
          ]
        },
        {
          "name": "stderr",
          "output_type": "stream",
          "text": [
            " 73%|███████▎  | 151/208 [00:41<00:19,  2.92it/s]"
          ]
        },
        {
          "name": "stdout",
          "output_type": "stream",
          "text": [
            "esferedayi\n",
            "[50, 21, 51, 45, 36, 50, 6, 0, 29, 16]\n"
          ]
        },
        {
          "name": "stderr",
          "output_type": "stream",
          "text": [
            " 96%|█████████▌| 200/208 [00:54<00:02,  3.61it/s]"
          ]
        },
        {
          "name": "stdout",
          "output_type": "stream",
          "text": [
            "loss: 23.630165100097656\n",
            "Cylogithet\n",
            "[24, 60, 34, 52, 29, 16, 9, 55, 45, 42]\n",
            "kermJgacom\n",
            "[46, 45, 36, 39, 49, 11, 49, 42, 52, 39]\n",
            "istrototng\n",
            "[37, 21, 42, 22, 52, 29, 52, 42, 25, 3]\n",
            "hobuerxord\n",
            "[7, 52, 8, 4, 45, 36, 29, 0, 36, 6]\n"
          ]
        },
        {
          "name": "stderr",
          "output_type": "stream",
          "text": [
            " 97%|█████████▋| 201/208 [00:55<00:02,  2.82it/s]"
          ]
        },
        {
          "name": "stdout",
          "output_type": "stream",
          "text": [
            "vemoredHer\n",
            "[46, 0, 39, 0, 34, 0, 29, 46, 45, 36]\n"
          ]
        },
        {
          "name": "stderr",
          "output_type": "stream",
          "text": [
            "100%|██████████| 208/208 [00:56<00:00,  3.66it/s]\n"
          ]
        },
        {
          "name": "stdout",
          "output_type": "stream",
          "text": [
            "loss: 24.044784545898438\n",
            "onensterip\n",
            "[0, 29, 50, 21, 30, 55, 0, 36, 16, 9]\n",
            "========= Results: epoch 5 of 10 =========\n",
            "train loss: 23.83| valid loss: 23.82\n",
            "\n",
            "========= Epoch 6 of 10 =========\n"
          ]
        },
        {
          "name": "stderr",
          "output_type": "stream",
          "text": [
            "  0%|          | 0/208 [00:00<?, ?it/s]"
          ]
        },
        {
          "name": "stdout",
          "output_type": "stream",
          "text": [
            "loss: 23.885086059570312\n",
            "Benebitfur\n",
            "[46, 0, 25, 50, 32, 16, 42, 62, 4, 36]\n",
            "Hizgzehale\n",
            "[46, 16, 25, 31, 22, 52, 8, 0, 34, 52]\n",
            "onivuruxno\n",
            "[52, 29, 16, 53, 45, 22, 37, 21, 25, 3]\n"
          ]
        },
        {
          "name": "stderr",
          "output_type": "stream",
          "text": [
            "  0%|          | 1/208 [00:00<01:52,  1.84it/s]"
          ]
        },
        {
          "name": "stdout",
          "output_type": "stream",
          "text": [
            "gamopturce\n",
            "[46, 0, 39, 0, 14, 55, 45, 36, 8, 0]\n",
            "dhibyiteci\n",
            "[42, 55, 16, 32, 53, 16, 42, 52, 9, 16]\n"
          ]
        },
        {
          "name": "stderr",
          "output_type": "stream",
          "text": [
            " 24%|██▍       | 50/208 [00:13<00:42,  3.71it/s]"
          ]
        },
        {
          "name": "stdout",
          "output_type": "stream",
          "text": [
            "loss: 24.263641357421875\n",
            "qulereapra\n",
            "[40, 4, 34, 50, 22, 52, 0, 26, 22, 0]\n",
            "ablartpric\n",
            "[0, 32, 34, 0, 21, 30, 24, 22, 16, 42]\n",
            "ctelonnero\n",
            "[24, 55, 0, 34, 0, 21, 25, 45, 36, 38]\n",
            "squtyacpru\n",
            "[30, 40, 4, 42, 60, 0, 9, 55, 22, 37]\n"
          ]
        },
        {
          "name": "stderr",
          "output_type": "stream",
          "text": [
            " 25%|██▍       | 51/208 [00:14<00:53,  2.91it/s]"
          ]
        },
        {
          "name": "stdout",
          "output_type": "stream",
          "text": [
            "nisdllogro\n",
            "[46, 16, 21, 42, 28, 34, 0, 54, 22, 0]\n"
          ]
        },
        {
          "name": "stderr",
          "output_type": "stream",
          "text": [
            " 48%|████▊     | 100/208 [00:27<00:29,  3.64it/s]"
          ]
        },
        {
          "name": "stdout",
          "output_type": "stream",
          "text": [
            "loss: 23.761247634887695\n",
            "romiimphau\n",
            "[22, 52, 39, 16, 0, 39, 14, 55, 0, 54]\n",
            "ladiposite\n",
            "[8, 0, 29, 16, 26, 0, 9, 16, 42, 0]\n",
            "ilusuntagi\n",
            "[37, 21, 37, 21, 37, 21, 42, 0, 29, 16]\n",
            "recporpans\n",
            "[22, 52, 9, 55, 45, 36, 26, 0, 29, 40]\n"
          ]
        },
        {
          "name": "stderr",
          "output_type": "stream",
          "text": [
            " 49%|████▊     | 101/208 [00:28<00:37,  2.86it/s]"
          ]
        },
        {
          "name": "stdout",
          "output_type": "stream",
          "text": [
            "coscrephyp\n",
            "[8, 0, 9, 55, 22, 52, 26, 43, 60, 26]\n"
          ]
        },
        {
          "name": "stderr",
          "output_type": "stream",
          "text": [
            " 72%|███████▏  | 150/208 [00:41<00:16,  3.52it/s]"
          ]
        },
        {
          "name": "stdout",
          "output_type": "stream",
          "text": [
            "loss: 23.517261505126953\n",
            "garatouste\n",
            "[46, 0, 36, 49, 42, 38, 37, 21, 42, 50]\n",
            "bistiamane\n",
            "[32, 16, 9, 55, 16, 0, 39, 0, 25, 52]\n",
            "roscinoins\n",
            "[22, 0, 21, 25, 16, 25, 52, 37, 21, 30]\n"
          ]
        },
        {
          "name": "stderr",
          "output_type": "stream",
          "text": [
            " 73%|███████▎  | 151/208 [00:42<00:20,  2.79it/s]"
          ]
        },
        {
          "name": "stdout",
          "output_type": "stream",
          "text": [
            "bicglerema\n",
            "[46, 16, 25, 3, 34, 52, 22, 52, 39, 0]\n",
            "sonousdist\n",
            "[30, 0, 29, 38, 37, 21, 42, 16, 9, 55]\n"
          ]
        },
        {
          "name": "stderr",
          "output_type": "stream",
          "text": [
            " 96%|█████████▌| 200/208 [00:55<00:02,  3.58it/s]"
          ]
        },
        {
          "name": "stdout",
          "output_type": "stream",
          "text": [
            "loss: 23.653709411621094\n",
            "parvichilo\n",
            "[46, 45, 36, 35, 16, 9, 55, 16, 34, 49]\n",
            "otharaline\n",
            "[0, 9, 55, 0, 36, 3, 34, 16, 25, 50]\n",
            "cyloletort\n",
            "[8, 60, 22, 52, 34, 52, 42, 45, 36, 42]\n"
          ]
        },
        {
          "name": "stderr",
          "output_type": "stream",
          "text": [
            " 97%|█████████▋| 201/208 [00:56<00:02,  2.82it/s]"
          ]
        },
        {
          "name": "stdout",
          "output_type": "stream",
          "text": [
            "marliperaw\n",
            "[46, 45, 36, 34, 16, 26, 45, 36, 0, 1]\n",
            "entilynaph\n",
            "[50, 21, 42, 16, 34, 60, 29, 0, 14, 55]\n"
          ]
        },
        {
          "name": "stderr",
          "output_type": "stream",
          "text": [
            "100%|██████████| 208/208 [00:57<00:00,  3.59it/s]\n"
          ]
        },
        {
          "name": "stdout",
          "output_type": "stream",
          "text": [
            "loss: 23.487239837646484\n",
            "dolacahfer\n",
            "[46, 0, 34, 0, 9, 0, 36, 51, 45, 36]\n",
            "========= Results: epoch 6 of 10 =========\n",
            "train loss: 23.73| valid loss: 23.74\n",
            "\n",
            "========= Epoch 7 of 10 =========\n"
          ]
        },
        {
          "name": "stderr",
          "output_type": "stream",
          "text": [
            "  0%|          | 0/208 [00:00<?, ?it/s]"
          ]
        },
        {
          "name": "stdout",
          "output_type": "stream",
          "text": [
            "loss: 23.74848175048828\n",
            "entotlegen\n",
            "[0, 21, 24, 0, 24, 22, 52, 8, 0, 21]\n",
            "beseridith\n",
            "[18, 0, 53, 45, 36, 16, 25, 16, 9, 55]\n",
            "pradinathe\n",
            "[24, 22, 0, 29, 16, 25, 49, 42, 22, 52]\n"
          ]
        },
        {
          "name": "stderr",
          "output_type": "stream",
          "text": [
            "  0%|          | 1/208 [00:00<01:55,  1.78it/s]"
          ]
        },
        {
          "name": "stdout",
          "output_type": "stream",
          "text": [
            "isoxalesti\n",
            "[37, 30, 0, 29, 0, 34, 0, 9, 55, 16]\n",
            "Tholateuns\n",
            "[24, 43, 0, 34, 49, 42, 52, 37, 21, 30]\n"
          ]
        },
        {
          "name": "stderr",
          "output_type": "stream",
          "text": [
            " 24%|██▍       | 50/208 [00:14<00:42,  3.68it/s]"
          ]
        },
        {
          "name": "stdout",
          "output_type": "stream",
          "text": [
            "loss: 23.719844818115234\n",
            "miseyosawo\n",
            "[46, 16, 30, 50, 63, 0, 9, 0, 29, 0]\n",
            "docoigyazu\n",
            "[13, 52, 8, 38, 37, 29, 60, 0, 25, 5]\n",
            "cublifyplt\n",
            "[40, 4, 32, 34, 16, 20, 60, 26, 34, 42]\n",
            "miseninale\n",
            "[27, 37, 30, 52, 35, 16, 25, 3, 34, 50]\n"
          ]
        },
        {
          "name": "stderr",
          "output_type": "stream",
          "text": [
            " 25%|██▍       | 51/208 [00:14<00:53,  2.91it/s]"
          ]
        },
        {
          "name": "stdout",
          "output_type": "stream",
          "text": [
            "romistiarb\n",
            "[22, 52, 39, 16, 9, 55, 16, 0, 36, 41]\n"
          ]
        },
        {
          "name": "stderr",
          "output_type": "stream",
          "text": [
            " 48%|████▊     | 100/208 [00:28<00:29,  3.65it/s]"
          ]
        },
        {
          "name": "stdout",
          "output_type": "stream",
          "text": [
            "loss: 23.925342559814453\n",
            "canisatifi\n",
            "[24, 0, 29, 16, 9, 49, 42, 16, 20, 16]\n",
            "norofhenit\n",
            "[46, 0, 29, 52, 8, 7, 52, 29, 16, 42]\n",
            "alcariedig\n",
            "[0, 21, 42, 45, 36, 16, 0, 6, 16, 25]\n",
            "Dotismably\n",
            "[46, 0, 42, 16, 9, 39, 49, 32, 34, 60]\n"
          ]
        },
        {
          "name": "stderr",
          "output_type": "stream",
          "text": [
            " 49%|████▊     | 101/208 [00:28<00:37,  2.88it/s]"
          ]
        },
        {
          "name": "stdout",
          "output_type": "stream",
          "text": [
            "sueticteph\n",
            "[30, 4, 45, 42, 16, 9, 55, 0, 26, 43]\n"
          ]
        },
        {
          "name": "stderr",
          "output_type": "stream",
          "text": [
            " 72%|███████▏  | 150/208 [00:42<00:16,  3.56it/s]"
          ]
        },
        {
          "name": "stdout",
          "output_type": "stream",
          "text": [
            "loss: 24.228832244873047\n",
            "Tuptaledot\n",
            "[46, 5, 9, 55, 0, 34, 50, 6, 52, 42]\n",
            "iwerdyxyge\n",
            "[37, 24, 45, 36, 29, 60, 29, 60, 42, 45]\n",
            "Katoindiad\n",
            "[46, 49, 42, 38, 37, 21, 42, 16, 0, 29]\n"
          ]
        },
        {
          "name": "stderr",
          "output_type": "stream",
          "text": [
            " 73%|███████▎  | 151/208 [00:43<00:20,  2.75it/s]"
          ]
        },
        {
          "name": "stdout",
          "output_type": "stream",
          "text": [
            "yantirmand\n",
            "[23, 0, 21, 42, 45, 36, 39, 0, 29, 6]\n",
            "itronogoge\n",
            "[37, 29, 22, 0, 29, 0, 29, 0, 29, 52]\n"
          ]
        },
        {
          "name": "stderr",
          "output_type": "stream",
          "text": [
            " 96%|█████████▌| 200/208 [00:56<00:02,  3.78it/s]"
          ]
        },
        {
          "name": "stdout",
          "output_type": "stream",
          "text": [
            "loss: 23.320175170898438\n",
            "unifiapery\n",
            "[37, 29, 16, 51, 16, 0, 26, 45, 36, 60]\n",
            "rutinatedv\n",
            "[22, 49, 42, 16, 25, 49, 42, 50, 6, 25]\n",
            "quriporusa\n",
            "[40, 4, 36, 16, 26, 60, 22, 5, 9, 49]\n",
            "hermeyrmen\n",
            "[43, 45, 36, 39, 45, 45, 36, 39, 50, 21]\n"
          ]
        },
        {
          "name": "stderr",
          "output_type": "stream",
          "text": [
            " 97%|█████████▋| 201/208 [00:57<00:02,  2.95it/s]"
          ]
        },
        {
          "name": "stdout",
          "output_type": "stream",
          "text": [
            "alilygarba\n",
            "[0, 34, 16, 34, 60, 29, 0, 36, 18, 0]\n"
          ]
        },
        {
          "name": "stderr",
          "output_type": "stream",
          "text": [
            "100%|██████████| 208/208 [00:58<00:00,  3.53it/s]\n"
          ]
        },
        {
          "name": "stdout",
          "output_type": "stream",
          "text": [
            "loss: 23.4674129486084\n",
            "usesXiscog\n",
            "[37, 21, 50, 21, 30, 16, 9, 8, 0, 29]\n",
            "========= Results: epoch 7 of 10 =========\n",
            "train loss: 23.65| valid loss: 23.67\n",
            "\n",
            "========= Epoch 8 of 10 =========\n"
          ]
        },
        {
          "name": "stderr",
          "output_type": "stream",
          "text": [
            "  0%|          | 0/208 [00:00<?, ?it/s]"
          ]
        },
        {
          "name": "stdout",
          "output_type": "stream",
          "text": [
            "loss: 23.907119750976562\n",
            "Minsurglit\n",
            "[46, 37, 21, 30, 4, 36, 31, 34, 49, 42]\n",
            "lidalahett\n",
            "[46, 16, 25, 3, 34, 58, 55, 52, 14, 55]\n",
            "Lagingwkyw\n",
            "[46, 0, 29, 16, 25, 31, 1, 58, 23, 1]\n",
            "cercultyci\n",
            "[8, 0, 36, 8, 4, 36, 42, 60, 42, 16]\n"
          ]
        },
        {
          "name": "stderr",
          "output_type": "stream",
          "text": [
            "  0%|          | 1/208 [00:00<01:48,  1.92it/s]"
          ]
        },
        {
          "name": "stdout",
          "output_type": "stream",
          "text": [
            "Lapellflyt\n",
            "[8, 0, 26, 45, 34, 34, 51, 34, 60, 42]\n"
          ]
        },
        {
          "name": "stderr",
          "output_type": "stream",
          "text": [
            " 24%|██▍       | 50/208 [00:13<00:43,  3.65it/s]"
          ]
        },
        {
          "name": "stdout",
          "output_type": "stream",
          "text": [
            "loss: 23.695032119750977\n",
            "Ratoretica\n",
            "[46, 45, 42, 45, 36, 49, 42, 16, 25, 3]\n",
            "goshicarba\n",
            "[46, 52, 9, 55, 16, 25, 3, 36, 18, 0]\n",
            "bootercnid\n",
            "[46, 0, 21, 42, 45, 36, 29, 29, 16, 42]\n"
          ]
        },
        {
          "name": "stderr",
          "output_type": "stream",
          "text": [
            " 25%|██▍       | 51/208 [00:14<00:54,  2.88it/s]"
          ]
        },
        {
          "name": "stdout",
          "output_type": "stream",
          "text": [
            "ussloGhova\n",
            "[37, 21, 30, 34, 52, 26, 43, 0, 53, 45]\n",
            "wetitalace\n",
            "[46, 49, 42, 16, 42, 3, 34, 49, 42, 45]\n"
          ]
        },
        {
          "name": "stderr",
          "output_type": "stream",
          "text": [
            " 48%|████▊     | 100/208 [00:27<00:29,  3.64it/s]"
          ]
        },
        {
          "name": "stdout",
          "output_type": "stream",
          "text": [
            "loss: 23.597536087036133\n",
            "stosieuted\n",
            "[30, 55, 0, 9, 16, 0, 5, 42, 45, 6]\n",
            "chyalinkll\n",
            "[24, 43, 60, 3, 34, 16, 25, 31, 34, 34]\n",
            "crasmabate\n",
            "[24, 22, 0, 21, 8, 0, 32, 49, 42, 45]\n"
          ]
        },
        {
          "name": "stderr",
          "output_type": "stream",
          "text": [
            " 49%|████▊     | 101/208 [00:28<00:38,  2.75it/s]"
          ]
        },
        {
          "name": "stdout",
          "output_type": "stream",
          "text": [
            "jeborenzom\n",
            "[13, 52, 18, 45, 36, 50, 21, 8, 52, 39]\n",
            "toresecict\n",
            "[24, 0, 36, 0, 9, 52, 9, 16, 9, 55]\n"
          ]
        },
        {
          "name": "stderr",
          "output_type": "stream",
          "text": [
            " 72%|███████▏  | 150/208 [00:41<00:15,  3.65it/s]"
          ]
        },
        {
          "name": "stdout",
          "output_type": "stream",
          "text": [
            "loss: 23.76523208618164\n",
            "usorniarfl\n",
            "[37, 39, 45, 36, 29, 16, 0, 36, 51, 34]\n",
            "thyneighto\n",
            "[24, 43, 60, 29, 0, 5, 11, 44, 42, 45]\n",
            "toonsishor\n",
            "[46, 52, 0, 21, 30, 16, 9, 55, 45, 36]\n",
            "usimphicme\n",
            "[37, 21, 16, 39, 14, 55, 16, 25, 46, 52]\n"
          ]
        },
        {
          "name": "stderr",
          "output_type": "stream",
          "text": [
            " 73%|███████▎  | 151/208 [00:42<00:19,  2.85it/s]"
          ]
        },
        {
          "name": "stdout",
          "output_type": "stream",
          "text": [
            "herrhepipa\n",
            "[43, 45, 36, 24, 7, 52, 26, 16, 9, 0]\n"
          ]
        },
        {
          "name": "stderr",
          "output_type": "stream",
          "text": [
            " 96%|█████████▌| 200/208 [00:55<00:02,  3.64it/s]"
          ]
        },
        {
          "name": "stdout",
          "output_type": "stream",
          "text": [
            "loss: 23.59160804748535\n",
            "cnedaexsym\n",
            "[24, 22, 50, 6, 3, 50, 21, 30, 60, 39]\n",
            "sChynytera\n",
            "[30, 24, 43, 60, 29, 60, 42, 45, 36, 49]\n",
            "Oraralyoch\n",
            "[24, 22, 0, 36, 3, 34, 63, 0, 9, 55]\n"
          ]
        },
        {
          "name": "stderr",
          "output_type": "stream",
          "text": [
            " 97%|█████████▋| 201/208 [00:56<00:02,  2.83it/s]"
          ]
        },
        {
          "name": "stdout",
          "output_type": "stream",
          "text": [
            "nolaletice\n",
            "[46, 0, 21, 0, 34, 50, 55, 16, 25, 45]\n",
            "vichnargis\n",
            "[35, 16, 9, 55, 25, 3, 36, 31, 16, 9]\n"
          ]
        },
        {
          "name": "stderr",
          "output_type": "stream",
          "text": [
            "100%|██████████| 208/208 [00:58<00:00,  3.57it/s]\n"
          ]
        },
        {
          "name": "stdout",
          "output_type": "stream",
          "text": [
            "loss: 23.567001342773438\n",
            "tanctinest\n",
            "[24, 0, 21, 9, 55, 16, 25, 52, 9, 55]\n",
            "========= Results: epoch 8 of 10 =========\n",
            "train loss: 23.59| valid loss: 23.60\n",
            "\n",
            "========= Epoch 9 of 10 =========\n"
          ]
        },
        {
          "name": "stderr",
          "output_type": "stream",
          "text": [
            "  0%|          | 0/208 [00:00<?, ?it/s]"
          ]
        },
        {
          "name": "stdout",
          "output_type": "stream",
          "text": [
            "loss: 23.410438537597656\n",
            "prenilisis\n",
            "[24, 22, 52, 29, 16, 34, 16, 30, 52, 9]\n",
            "cocllllite\n",
            "[8, 52, 26, 34, 34, 34, 34, 49, 42, 50]\n",
            "buedellils\n",
            "[18, 4, 49, 42, 50, 34, 34, 16, 21, 30]\n",
            "ipoleastic\n",
            "[37, 19, 0, 34, 52, 0, 9, 55, 16, 9]\n"
          ]
        },
        {
          "name": "stderr",
          "output_type": "stream",
          "text": [
            "  0%|          | 1/208 [00:00<01:45,  1.97it/s]"
          ]
        },
        {
          "name": "stdout",
          "output_type": "stream",
          "text": [
            "myrimusurE\n",
            "[46, 60, 22, 52, 39, 4, 9, 4, 36, 24]\n"
          ]
        },
        {
          "name": "stderr",
          "output_type": "stream",
          "text": [
            " 24%|██▍       | 50/208 [00:13<00:42,  3.70it/s]"
          ]
        },
        {
          "name": "stdout",
          "output_type": "stream",
          "text": [
            "loss: 23.268503189086914\n",
            "kheonsagre\n",
            "[24, 7, 52, 0, 21, 9, 0, 54, 22, 52]\n",
            "gilatolela\n",
            "[46, 16, 34, 49, 42, 0, 34, 50, 22, 0]\n",
            "rontiagner\n",
            "[22, 0, 21, 42, 52, 0, 11, 29, 45, 36]\n",
            "utcankille\n",
            "[37, 21, 8, 0, 21, 42, 16, 34, 34, 50]\n"
          ]
        },
        {
          "name": "stderr",
          "output_type": "stream",
          "text": [
            " 25%|██▍       | 51/208 [00:14<00:55,  2.84it/s]"
          ]
        },
        {
          "name": "stdout",
          "output_type": "stream",
          "text": [
            "ednalatyss\n",
            "[50, 6, 25, 3, 34, 49, 42, 60, 21, 30]\n"
          ]
        },
        {
          "name": "stderr",
          "output_type": "stream",
          "text": [
            " 48%|████▊     | 100/208 [00:27<00:27,  3.87it/s]"
          ]
        },
        {
          "name": "stdout",
          "output_type": "stream",
          "text": [
            "loss: 23.533544540405273\n",
            "ladisulari\n",
            "[22, 49, 42, 16, 9, 4, 34, 45, 36, 16]\n",
            "wutsopacet\n",
            "[46, 5, 42, 22, 0, 29, 0, 9, 52, 42]\n",
            "soateracis\n",
            "[30, 52, 49, 42, 45, 36, 49, 42, 16, 9]\n",
            "vidensamag\n",
            "[35, 16, 25, 50, 21, 30, 0, 39, 0, 54]\n"
          ]
        },
        {
          "name": "stderr",
          "output_type": "stream",
          "text": [
            " 49%|████▊     | 101/208 [00:27<00:35,  2.99it/s]"
          ]
        },
        {
          "name": "stdout",
          "output_type": "stream",
          "text": [
            "soongtinsp\n",
            "[30, 52, 0, 29, 29, 29, 16, 25, 43, 14]\n"
          ]
        },
        {
          "name": "stderr",
          "output_type": "stream",
          "text": [
            " 72%|███████▏  | 150/208 [00:40<00:14,  4.02it/s]"
          ]
        },
        {
          "name": "stdout",
          "output_type": "stream",
          "text": [
            "loss: 23.200355529785156\n",
            "destreppph\n",
            "[13, 52, 9, 55, 22, 52, 26, 26, 26, 43]\n",
            "Fhoningiab\n",
            "[24, 43, 0, 29, 16, 25, 31, 16, 0, 32]\n",
            "selonriana\n",
            "[30, 45, 34, 0, 36, 22, 16, 0, 29, 52]\n",
            "proKphanam\n",
            "[24, 22, 52, 39, 26, 43, 0, 21, 0, 39]\n"
          ]
        },
        {
          "name": "stderr",
          "output_type": "stream",
          "text": [
            " 73%|███████▎  | 151/208 [00:41<00:18,  3.04it/s]"
          ]
        },
        {
          "name": "stdout",
          "output_type": "stream",
          "text": [
            "biticipflo\n",
            "[43, 16, 42, 16, 42, 16, 26, 51, 22, 52]\n"
          ]
        },
        {
          "name": "stderr",
          "output_type": "stream",
          "text": [
            " 96%|█████████▌| 200/208 [00:53<00:02,  3.83it/s]"
          ]
        },
        {
          "name": "stdout",
          "output_type": "stream",
          "text": [
            "loss: 23.843347549438477\n",
            "tovelisere\n",
            "[46, 0, 53, 45, 34, 16, 39, 50, 22, 52]\n",
            "urecerpoin\n",
            "[37, 36, 49, 42, 45, 36, 14, 55, 16, 25]\n",
            "heexinalul\n",
            "[7, 52, 50, 21, 16, 25, 3, 34, 4, 34]\n",
            "insuiainte\n",
            "[37, 21, 30, 4, 16, 0, 37, 21, 42, 45]\n"
          ]
        },
        {
          "name": "stderr",
          "output_type": "stream",
          "text": [
            " 97%|█████████▋| 201/208 [00:54<00:02,  3.02it/s]"
          ]
        },
        {
          "name": "stdout",
          "output_type": "stream",
          "text": [
            "Odestensem\n",
            "[37, 6, 50, 21, 42, 50, 21, 30, 52, 39]\n"
          ]
        },
        {
          "name": "stderr",
          "output_type": "stream",
          "text": [
            "100%|██████████| 208/208 [00:56<00:00,  3.71it/s]\n"
          ]
        },
        {
          "name": "stdout",
          "output_type": "stream",
          "text": [
            "loss: 23.585073471069336\n",
            "yoctiadala\n",
            "[46, 52, 9, 55, 16, 0, 42, 3, 34, 49]\n",
            "========= Results: epoch 9 of 10 =========\n",
            "train loss: 23.52| valid loss: 23.55\n",
            "\n",
            "========= Epoch 10 of 10 =========\n"
          ]
        },
        {
          "name": "stderr",
          "output_type": "stream",
          "text": [
            "  0%|          | 0/208 [00:00<?, ?it/s]"
          ]
        },
        {
          "name": "stdout",
          "output_type": "stream",
          "text": [
            "loss: 23.49643898010254\n",
            "ieryonagli\n",
            "[52, 45, 36, 23, 0, 29, 0, 54, 22, 16]\n",
            "olattylall\n",
            "[0, 34, 0, 21, 42, 60, 34, 45, 34, 34]\n",
            "enderfulle\n",
            "[50, 21, 42, 45, 36, 62, 4, 34, 34, 52]\n",
            "raticedutt\n",
            "[22, 0, 42, 16, 25, 50, 6, 5, 14, 55]\n"
          ]
        },
        {
          "name": "stderr",
          "output_type": "stream",
          "text": [
            "  0%|          | 1/208 [00:00<01:51,  1.86it/s]"
          ]
        },
        {
          "name": "stdout",
          "output_type": "stream",
          "text": [
            "locentosic\n",
            "[46, 0, 25, 50, 21, 42, 0, 9, 16, 25]\n"
          ]
        },
        {
          "name": "stderr",
          "output_type": "stream",
          "text": [
            " 24%|██▍       | 50/208 [00:13<00:40,  3.88it/s]"
          ]
        },
        {
          "name": "stdout",
          "output_type": "stream",
          "text": [
            "loss: 23.765445709228516\n",
            "myyrchymip\n",
            "[27, 12, 45, 36, 8, 43, 60, 39, 16, 26]\n",
            "fiasermatr\n",
            "[51, 16, 0, 39, 45, 36, 27, 49, 42, 22]\n",
            "intiverslo\n",
            "[37, 21, 42, 16, 53, 45, 36, 30, 34, 0]\n",
            "detesiorch\n",
            "[13, 52, 55, 0, 9, 16, 0, 36, 8, 7]\n"
          ]
        },
        {
          "name": "stderr",
          "output_type": "stream",
          "text": [
            " 25%|██▍       | 51/208 [00:13<00:50,  3.13it/s]"
          ]
        },
        {
          "name": "stdout",
          "output_type": "stream",
          "text": [
            "phormphahe\n",
            "[24, 43, 45, 36, 39, 26, 43, 14, 7, 52]\n"
          ]
        },
        {
          "name": "stderr",
          "output_type": "stream",
          "text": [
            " 48%|████▊     | 100/208 [00:26<00:27,  4.00it/s]"
          ]
        },
        {
          "name": "stdout",
          "output_type": "stream",
          "text": [
            "loss: 23.434844970703125\n",
            "jeticeaspr\n",
            "[46, 52, 42, 16, 25, 50, 21, 30, 24, 22]\n",
            "cabicalyaz\n",
            "[8, 0, 32, 16, 25, 3, 34, 63, 0, 29]\n",
            "ocyanadusE\n",
            "[52, 8, 63, 0, 29, 45, 6, 5, 30, 55]\n",
            "Qunhastilo\n",
            "[46, 37, 21, 43, 0, 9, 55, 16, 34, 0]\n"
          ]
        },
        {
          "name": "stderr",
          "output_type": "stream",
          "text": [
            " 49%|████▊     | 101/208 [00:26<00:33,  3.19it/s]"
          ]
        },
        {
          "name": "stdout",
          "output_type": "stream",
          "text": [
            "diareavedu\n",
            "[35, 16, 0, 36, 52, 0, 53, 50, 6, 5]\n"
          ]
        },
        {
          "name": "stderr",
          "output_type": "stream",
          "text": [
            " 72%|███████▏  | 150/208 [00:39<00:15,  3.83it/s]"
          ]
        },
        {
          "name": "stdout",
          "output_type": "stream",
          "text": [
            "loss: 23.631690979003906\n",
            "underonone\n",
            "[37, 21, 6, 45, 36, 0, 29, 0, 25, 52]\n",
            "istraningl\n",
            "[37, 21, 24, 22, 0, 29, 16, 25, 31, 34]\n",
            "Bsugnealeo\n",
            "[24, 22, 5, 11, 29, 52, 3, 34, 50, 38]\n"
          ]
        },
        {
          "name": "stderr",
          "output_type": "stream",
          "text": [
            " 73%|███████▎  | 151/208 [00:39<00:19,  3.00it/s]"
          ]
        },
        {
          "name": "stdout",
          "output_type": "stream",
          "text": [
            "dacradalet\n",
            "[46, 0, 54, 22, 49, 42, 3, 34, 49, 42]\n",
            "joroincasK\n",
            "[46, 0, 36, 38, 37, 21, 8, 0, 21, 24]\n"
          ]
        },
        {
          "name": "stderr",
          "output_type": "stream",
          "text": [
            " 96%|█████████▌| 200/208 [00:52<00:02,  3.71it/s]"
          ]
        },
        {
          "name": "stdout",
          "output_type": "stream",
          "text": [
            "loss: 23.789161682128906\n",
            "folepaelde\n",
            "[51, 45, 34, 0, 26, 45, 50, 34, 42, 52]\n",
            "coshadedoc\n",
            "[8, 52, 9, 55, 45, 6, 45, 6, 0, 8]\n",
            "palygwiten\n",
            "[24, 3, 34, 60, 54, 22, 49, 42, 50, 21]\n",
            "ratiticani\n",
            "[22, 49, 42, 49, 42, 16, 8, 0, 36, 16]\n"
          ]
        },
        {
          "name": "stderr",
          "output_type": "stream",
          "text": [
            " 97%|█████████▋| 201/208 [00:53<00:02,  2.90it/s]"
          ]
        },
        {
          "name": "stdout",
          "output_type": "stream",
          "text": [
            "muntonalen\n",
            "[27, 37, 21, 42, 0, 25, 3, 34, 50, 21]\n"
          ]
        },
        {
          "name": "stderr",
          "output_type": "stream",
          "text": [
            "100%|██████████| 208/208 [00:54<00:00,  3.78it/s]\n"
          ]
        },
        {
          "name": "stdout",
          "output_type": "stream",
          "text": [
            "loss: 23.48554039001465\n",
            "ursyummper\n",
            "[37, 36, 30, 60, 59, 39, 39, 26, 45, 36]\n",
            "========= Results: epoch 10 of 10 =========\n",
            "train loss: 23.48| valid loss: 23.51\n",
            "\n"
          ]
        }
      ],
      "source": [
        "# Initialize model\n",
        "model = HMM(N=64, M=M)\n",
        "\n",
        "# Train the model\n",
        "num_epochs = 10\n",
        "trainer = Trainer(model, lr=0.01)\n",
        "\n",
        "for epoch in range(num_epochs):\n",
        "        print(\"========= Epoch %d of %d =========\" % (epoch+1, num_epochs))\n",
        "        train_loss = trainer.train(train_dataset)\n",
        "        valid_loss = trainer.test(valid_dataset)\n",
        "\n",
        "        print(\"========= Results: epoch %d of %d =========\" % (epoch+1, num_epochs))\n",
        "        print(\"train loss: %.2f| valid loss: %.2f\\n\" % (train_loss, valid_loss) )"
      ]
    },
    {
      "cell_type": "markdown",
      "metadata": {
        "id": "zymBj9QrDHRM"
      },
      "source": [
        "You may wish to try different values of $N$ and see what the impact on sample quality is."
      ]
    },
    {
      "cell_type": "code",
      "execution_count": 18,
      "metadata": {
        "colab": {
          "base_uri": "https://localhost:8080/"
        },
        "id": "auBibYUTtIom",
        "outputId": "ad9f161c-21dc-40a6-ce30-759d9c40c606"
      },
      "outputs": [
        {
          "name": "stdout",
          "output_type": "stream",
          "text": [
            "([[40, 4, 0, 25, 31]], tensor([[-16.2346]], device='mps:0', grad_fn=<GatherBackward0>))\n",
            "([[40, 4, 16, 25, 31]], tensor([[-13.1426]], device='mps:0', grad_fn=<GatherBackward0>))\n",
            "([[40, 4, 36, 14, 55]], tensor([[-16.1358]], device='mps:0', grad_fn=<GatherBackward0>))\n",
            "([[40, 4, 16, 25, 31]], tensor([[-20.7870]], device='mps:0', grad_fn=<GatherBackward0>))\n"
          ]
        }
      ],
      "source": [
        "x = torch.tensor(encode(\"quack\")).unsqueeze(0)\n",
        "T = torch.tensor([5])\n",
        "print(model.viterbi(x,T))\n",
        "\n",
        "x = torch.tensor(encode(\"quick\")).unsqueeze(0)\n",
        "T = torch.tensor([5])\n",
        "print(model.viterbi(x,T))\n",
        "\n",
        "x = torch.tensor(encode(\"qurck\")).unsqueeze(0)\n",
        "T = torch.tensor([5])\n",
        "print(model.viterbi(x,T)) # should have lower probability---in English only vowels follow \"qu\"\n",
        "\n",
        "x = torch.tensor(encode(\"qiick\")).unsqueeze(0)\n",
        "T = torch.tensor([5])\n",
        "print(model.viterbi(x,T)) # should have lower probability---in English only \"u\" follows \"q\"\n"
      ]
    }
  ],
  "metadata": {
    "accelerator": "GPU",
    "colab": {
      "collapsed_sections": [
        "Z3zUUYH0giKV",
        "qBCrFobsEM8X"
      ],
      "name": "HMM.ipynb",
      "provenance": []
    },
    "kernelspec": {
      "display_name": "Python 3",
      "name": "python3"
    },
    "language_info": {
      "codemirror_mode": {
        "name": "ipython",
        "version": 3
      },
      "file_extension": ".py",
      "mimetype": "text/x-python",
      "name": "python",
      "nbconvert_exporter": "python",
      "pygments_lexer": "ipython3",
      "version": "3.9.18"
    }
  },
  "nbformat": 4,
  "nbformat_minor": 0
}
